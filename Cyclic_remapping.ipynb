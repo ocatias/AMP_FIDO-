{
 "cells": [
  {
   "cell_type": "code",
   "execution_count": 1,
   "metadata": {},
   "outputs": [],
   "source": [
    "import numpy as np"
   ]
  },
  {
   "cell_type": "code",
   "execution_count": 2,
   "metadata": {},
   "outputs": [],
   "source": [
    "nrs = []\n",
    "powers = []\n",
    "for i in range(0,4):\n",
    "    nrs.append(list(range(2**i)))\n",
    "    \n",
    "for j in range(6,32):\n",
    "    powers.append(2**j)"
   ]
  },
  {
   "cell_type": "code",
   "execution_count": 3,
   "metadata": {},
   "outputs": [],
   "source": [
    "def cyclic_remap(x,n):\n",
    "    return int(n/64*(x % 64) + np.floor(x/64))"
   ]
  },
  {
   "cell_type": "code",
   "execution_count": 4,
   "metadata": {},
   "outputs": [
    {
     "name": "stdout",
     "output_type": "stream",
     "text": [
      "Testing for 2^ 6\n",
      "Check\n",
      "Testing for 2^ 7\n",
      "Check\n",
      "Testing for 2^ 8\n",
      "Check\n",
      "Testing for 2^ 9\n",
      "Check\n",
      "Testing for 2^ 10\n",
      "Check\n",
      "Testing for 2^ 11\n",
      "Check\n",
      "Testing for 2^ 12\n",
      "Check\n",
      "Testing for 2^ 13\n",
      "Check\n",
      "Testing for 2^ 14\n",
      "Check\n",
      "Testing for 2^ 15\n",
      "Check\n",
      "Testing for 2^ 16\n",
      "Check\n",
      "Testing for 2^ 17\n",
      "Check\n",
      "Testing for 2^ 18\n",
      "Check\n",
      "Testing for 2^ 19\n",
      "Check\n",
      "Testing for 2^ 20\n",
      "Check\n",
      "Testing for 2^ 21\n",
      "Check\n",
      "Testing for 2^ 22\n",
      "Check\n",
      "Testing for 2^ 23\n",
      "Check\n",
      "Testing for 2^ 24\n",
      "Check\n",
      "Testing for 2^ 25\n",
      "Check\n",
      "Testing for 2^ 26\n",
      "Check\n",
      "Testing for 2^ 27\n",
      "Check\n",
      "Testing for 2^ 28\n",
      "Check\n",
      "Testing for 2^ 29\n"
     ]
    },
    {
     "ename": "MemoryError",
     "evalue": "",
     "output_type": "error",
     "traceback": [
      "\u001b[1;31m---------------------------------------------------------------------------\u001b[0m",
      "\u001b[1;31mMemoryError\u001b[0m                               Traceback (most recent call last)",
      "\u001b[1;32m<ipython-input-4-50976971f0d3>\u001b[0m in \u001b[0;36m<module>\u001b[1;34m\u001b[0m\n\u001b[0;32m      8\u001b[0m \u001b[1;33m\u001b[0m\u001b[0m\n\u001b[0;32m      9\u001b[0m     \u001b[0mtargets\u001b[0m\u001b[1;33m.\u001b[0m\u001b[0msort\u001b[0m\u001b[1;33m(\u001b[0m\u001b[1;33m)\u001b[0m\u001b[1;33m\u001b[0m\u001b[1;33m\u001b[0m\u001b[0m\n\u001b[1;32m---> 10\u001b[1;33m     \u001b[1;32mif\u001b[0m\u001b[1;33m(\u001b[0m\u001b[0mset\u001b[0m\u001b[1;33m(\u001b[0m\u001b[0mtargets\u001b[0m\u001b[1;33m)\u001b[0m \u001b[1;33m!=\u001b[0m \u001b[0mset\u001b[0m\u001b[1;33m(\u001b[0m\u001b[0mrange\u001b[0m\u001b[1;33m(\u001b[0m\u001b[1;36m0\u001b[0m\u001b[1;33m,\u001b[0m\u001b[0mx\u001b[0m\u001b[1;33m)\u001b[0m\u001b[1;33m)\u001b[0m\u001b[1;33m)\u001b[0m\u001b[1;33m:\u001b[0m\u001b[1;33m\u001b[0m\u001b[1;33m\u001b[0m\u001b[0m\n\u001b[0m\u001b[0;32m     11\u001b[0m         \u001b[0mprint\u001b[0m\u001b[1;33m(\u001b[0m\u001b[0mset\u001b[0m\u001b[1;33m(\u001b[0m\u001b[0mtargets\u001b[0m\u001b[1;33m)\u001b[0m\u001b[1;33m-\u001b[0m\u001b[0mset\u001b[0m\u001b[1;33m(\u001b[0m\u001b[0mrange\u001b[0m\u001b[1;33m(\u001b[0m\u001b[1;36m0\u001b[0m\u001b[1;33m,\u001b[0m\u001b[0mx\u001b[0m\u001b[1;33m)\u001b[0m\u001b[1;33m)\u001b[0m\u001b[1;33m)\u001b[0m\u001b[1;33m\u001b[0m\u001b[1;33m\u001b[0m\u001b[0m\n\u001b[0;32m     12\u001b[0m         \u001b[0mprint\u001b[0m\u001b[1;33m(\u001b[0m\u001b[0mtargets\u001b[0m\u001b[1;33m)\u001b[0m\u001b[1;33m\u001b[0m\u001b[1;33m\u001b[0m\u001b[0m\n",
      "\u001b[1;31mMemoryError\u001b[0m: "
     ]
    }
   ],
   "source": [
    "i = 0\n",
    "for x in powers:\n",
    "    print(\"Testing for 2^\", 6+i)\n",
    "    i += 1\n",
    "    targets = []\n",
    "    for a in range(0,x):\n",
    "        targets.append(cyclic_remap(a, x))\n",
    "    \n",
    "    targets.sort()\n",
    "    if(set(targets) != set(range(0,x))):\n",
    "        print(set(targets)-set(range(0,x)))\n",
    "        print(targets)\n",
    "        print(list(range(0,x)))\n",
    "    print(\"Check\")"
   ]
  },
  {
   "cell_type": "markdown",
   "metadata": {},
   "source": [
    "This test crashes on my computer at 2^29 because at this point it would need to allocate more than 2^30 integers."
   ]
  },
  {
   "cell_type": "code",
   "execution_count": null,
   "metadata": {},
   "outputs": [],
   "source": []
  }
 ],
 "metadata": {
  "kernelspec": {
   "display_name": "Python 3",
   "language": "python",
   "name": "python3"
  },
  "language_info": {
   "codemirror_mode": {
    "name": "ipython",
    "version": 3
   },
   "file_extension": ".py",
   "mimetype": "text/x-python",
   "name": "python",
   "nbconvert_exporter": "python",
   "pygments_lexer": "ipython3",
   "version": "3.7.6"
  }
 },
 "nbformat": 4,
 "nbformat_minor": 4
}
